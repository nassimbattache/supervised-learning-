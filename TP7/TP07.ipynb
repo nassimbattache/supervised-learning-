{
 "cells": [
  {
   "cell_type": "code",
   "execution_count": 11,
   "metadata": {},
   "outputs": [
    {
     "name": "stdout",
     "output_type": "stream",
     "text": [
      "le score est de :1.0\n"
     ]
    }
   ],
   "source": [
    "import numpy as np\n",
    "import matplotlib.pyplot as plt\n",
    "from sklearn import svm, datasets\n",
    "from sklearn.model_selection import train_test_split\n",
    "from sklearn.preprocessing import StandardScaler\n",
    "from sklearn.linear_model import Perceptron \n",
    "\n",
    "\n",
    "iris = datasets.load_iris()\n",
    "\n",
    "X= iris.data[:, (2, 3)]\n",
    "y= (iris.target==0).astype(np.int)\n",
    "#Standarisation des données\n",
    "scaler = StandardScaler()\n",
    "scaler.fit(X)\n",
    "X = scaler.transform(X)\n",
    "\n",
    "per_clf=Perceptron(random_state=0)\n",
    "per_clf.fit(X,y)\n",
    "y_pred = per_clf.predict([[2,0.5]])\n",
    "print (\"le score est de :\" +str(per_clf.score(X,y)))\n"
   ]
  },
  {
   "cell_type": "code",
   "execution_count": 34,
   "metadata": {},
   "outputs": [
    {
     "data": {
      "image/png": "[encoded data removed]",
      "text/plain": [
       "<Figure size 432x288 with 1 Axes>"
      ]
     },
     "metadata": {
      "needs_background": "light"
     },
     "output_type": "display_data"
    }
   ],
   "source": [
    "import numpy as np\n",
    "import matplotlib.pyplot as plt\n",
    "from sklearn import svm\n",
    "from sklearn.svm import OneClassSVM\n",
    "# On créé deux groupes séparés (échantillons de gaussiennes)\n",
    "N = 200\n",
    "data1 = 0.3 * np.random.randn(N // 2, 2) + [2,2]\n",
    "data2 = 0.3 * np.random.randn(N // 2, 2) - [2,2]\n",
    "# On créé 10% de données anormales (*outliers*)\n",
    "outliers = np.random.uniform(size=(N // 10, 2), low=-6, high=6)\n",
    "# Les données = groupes + anomalies\n",
    "X = np.concatenate((data1, data2, outliers))\n",
    "plt.scatter(X[:,0], X[:,1]) and plt.show()"
   ]
  },
  {
   "cell_type": "code",
   "execution_count": 47,
   "metadata": {},
   "outputs": [
    {
     "name": "stdout",
     "output_type": "stream",
     "text": [
      "le score pour classification par une OneclassSVM à noyau gaussien:\n",
      "le seuille est : -0.00016614558013672298\n",
      "le score pour une valeur de gamma =0.0001 et une valeur nu =0.1 est : \n",
      "inliers = 213 et outliers = 7\n",
      "le seuille est : -0.00010647123433527028\n",
      "le score pour une valeur de gamma =0.0001 et une valeur nu =0.2 est : \n",
      "inliers = 213 et outliers = 7\n",
      "le seuille est : -4.937429549399575e-05\n",
      "le score pour une valeur de gamma =0.0001 et une valeur nu =0.3 est : \n",
      "inliers = 213 et outliers = 7\n",
      "le seuille est : -0.00010787126601061745\n",
      "le score pour une valeur de gamma =0.0001 et une valeur nu =0.4 est : \n",
      "inliers = 213 et outliers = 7\n",
      "le seuille est : -0.00016614558013672298\n",
      "le score pour une valeur de gamma =0.001 et une valeur nu =0.1 est : \n",
      "inliers = 213 et outliers = 7\n",
      "le seuille est : -0.00010647123433527028\n",
      "le score pour une valeur de gamma =0.001 et une valeur nu =0.2 est : \n",
      "inliers = 213 et outliers = 7\n",
      "le seuille est : -4.937429549399575e-05\n",
      "le score pour une valeur de gamma =0.001 et une valeur nu =0.3 est : \n",
      "inliers = 213 et outliers = 7\n",
      "le seuille est : -0.00010787126601061745\n",
      "le score pour une valeur de gamma =0.001 et une valeur nu =0.4 est : \n",
      "inliers = 213 et outliers = 7\n",
      "le seuille est : -0.00016614558013672298\n",
      "le score pour une valeur de gamma =0.01 et une valeur nu =0.1 est : \n",
      "inliers = 213 et outliers = 7\n",
      "le seuille est : -0.00010647123433527028\n",
      "le score pour une valeur de gamma =0.01 et une valeur nu =0.2 est : \n",
      "inliers = 213 et outliers = 7\n",
      "le seuille est : -4.937429549399575e-05\n",
      "le score pour une valeur de gamma =0.01 et une valeur nu =0.3 est : \n",
      "inliers = 213 et outliers = 7\n",
      "le seuille est : -0.00010787126601061745\n",
      "le score pour une valeur de gamma =0.01 et une valeur nu =0.4 est : \n",
      "inliers = 213 et outliers = 7\n",
      "le seuille est : -0.00016614558013672298\n",
      "le score pour une valeur de gamma =0.1 et une valeur nu =0.1 est : \n",
      "inliers = 213 et outliers = 7\n",
      "le seuille est : -0.00010647123433527028\n",
      "le score pour une valeur de gamma =0.1 et une valeur nu =0.2 est : \n",
      "inliers = 213 et outliers = 7\n",
      "le seuille est : -4.937429549399575e-05\n",
      "le score pour une valeur de gamma =0.1 et une valeur nu =0.3 est : \n",
      "inliers = 213 et outliers = 7\n",
      "le seuille est : -0.00010787126601061745\n",
      "le score pour une valeur de gamma =0.1 et une valeur nu =0.4 est : \n",
      "inliers = 213 et outliers = 7\n",
      "le seuille est : -0.00016614558013672298\n",
      "le score pour une valeur de gamma =1.0 et une valeur nu =0.1 est : \n",
      "inliers = 213 et outliers = 7\n",
      "le seuille est : -0.00010647123433527028\n",
      "le score pour une valeur de gamma =1.0 et une valeur nu =0.2 est : \n",
      "inliers = 213 et outliers = 7\n",
      "le seuille est : -4.937429549399575e-05\n",
      "le score pour une valeur de gamma =1.0 et une valeur nu =0.3 est : \n",
      "inliers = 213 et outliers = 7\n",
      "le seuille est : -0.00010787126601061745\n",
      "le score pour une valeur de gamma =1.0 et une valeur nu =0.4 est : \n",
      "inliers = 213 et outliers = 7\n"
     ]
    }
   ],
   "source": [
    "# Construction du modèle (noyau RBF) pour plusieurs valeurs gamma\n",
    "import numpy as np\n",
    "import collections as cl\n",
    "gamma=[0.0001,0.001,0.01,0.10,1.00]\n",
    "nu=[0.1,0.2,0.3,0.4]\n",
    "print( \"le score pour classification par une OneclassSVM à noyau gaussien:\" )\n",
    "#classification par une SVM à noyau gaussien : \n",
    "for i in range (len (gamma)):\n",
    "    for j in range(len(nu)):\n",
    "        clf = svm.OneClassSVM(nu=nu[j], kernel=\"linear\", gamma=gamma[i])\n",
    "        clf.fit(X)\n",
    "        clf_accuracy = clf.score_samples(X)\n",
    "        clf_threshold = np.quantile(clf_accuracy,0.03)\n",
    "        print(\"le seuille est : \"+str(clf_threshold))\n",
    "        outliers = (clf_accuracy<clf_threshold)\n",
    "        outliers = cl.Counter(outliers == False)\n",
    "        inliers = (clf_accuracy>=clf_threshold)\n",
    "        inliers = cl.Counter(inliers == True)\n",
    "        print (\"le score pour une valeur de gamma =\"+str(gamma[i])+ \" et une valeur nu =\"+str(nu[j])+\" est : \")\n",
    "        print(\"inliers = {} et outliers = {}\".format(inliers[True], outliers[False]))\n"
   ]
  },
  {
   "cell_type": "code",
   "execution_count": 48,
   "metadata": {},
   "outputs": [
    {
     "data": {
      "image/png": "[encoded data removed]",
      "text/plain": [
       "<Figure size 432x288 with 1 Axes>"
      ]
     },
     "metadata": {
      "needs_background": "light"
     },
     "output_type": "display_data"
    }
   ],
   "source": [
    "# Afficher les points et les vecteurs les plus proches du plan de séparation\n",
    "xx, yy = np.meshgrid(np.linspace(-7, 7, 500), np.linspace(-7, 7, 500))\n",
    "Z = clf.decision_function(np.c_[xx.ravel(), yy.ravel()])\n",
    "Z = Z.reshape(xx.shape)\n",
    "y_pred = clf.predict(X)\n",
    "# Choix du jeu de couleurs\n",
    "plt.set_cmap(plt.cm.Paired)\n",
    "# Trace le contour de la fonction de décision\n",
    "plt.contourf(xx, yy, Z)\n",
    "# Affiche les points considérés comme \"inliers\"\n",
    "plt.scatter(X[y_pred>0,0], X[y_pred>0,1], c='white', edgecolors='k',\n",
    "label='inliers')\n",
    "# Affiche les points considérés comme \"outliers\"\n",
    "plt.scatter(X[y_pred<=0,0], X[y_pred<=0,1], c='black', label='outliers')\n",
    "plt.legend()\n",
    "plt.show()"
   ]
  },
  {
   "cell_type": "code",
   "execution_count": 49,
   "metadata": {},
   "outputs": [],
   "source": [
    "import numpy as np\n",
    "import matplotlib.pyplot as plt\n",
    "from sklearn.svm import SVR"
   ]
  },
  {
   "cell_type": "code",
   "execution_count": 50,
   "metadata": {},
   "outputs": [],
   "source": [
    "X = np.sort(5 * np.random.rand(40, 1), axis=0)\n",
    "y = np.sin(X).ravel()"
   ]
  },
  {
   "cell_type": "code",
   "execution_count": 52,
   "metadata": {},
   "outputs": [
    {
     "data": {
      "text/plain": [
       "[<matplotlib.lines.Line2D at 0x1722f7d7460>]"
      ]
     },
     "execution_count": 52,
     "metadata": {},
     "output_type": "execute_result"
    },
    {
     "data": {
      "image/png": "[encoded data removed]",
      "text/plain": [
       "<Figure size 432x288 with 1 Axes>"
      ]
     },
     "metadata": {
      "needs_background": "light"
     },
     "output_type": "display_data"
    }
   ],
   "source": [
    "y[::5] += 3 * (0.5 - np.random.rand(8))\n",
    "plt.plot(X, y)"
   ]
  },
  {
   "cell_type": "code",
   "execution_count": 53,
   "metadata": {},
   "outputs": [],
   "source": [
    "# Création des SVM\n",
    "C = 1e3\n",
    "svr_rbf = SVR(kernel='rbf', C=C, gamma=0.1)\n",
    "svr_lin = SVR(kernel='linear', C=C)\n",
    "svr_poly = SVR(kernel='poly', C=C, degree=2)\n",
    "# Entraînement des SVM sur les observations bruitées\n",
    "y_rbf = svr_rbf.fit(X, y).predict(X)\n",
    "y_lin = svr_lin.fit(X, y).predict(X)\n",
    "y_poly = svr_poly.fit(X, y).predict(X)"
   ]
  },
  {
   "cell_type": "code",
   "execution_count": 54,
   "metadata": {},
   "outputs": [
    {
     "data": {
      "image/png": "[encoded data removed]",
      "text/plain": [
       "<Figure size 432x288 with 1 Axes>"
      ]
     },
     "metadata": {
      "needs_background": "light"
     },
     "output_type": "display_data"
    }
   ],
   "source": [
    "plt.scatter(X, y, color='darkorange', label='Données')\n",
    "plt.plot(X, y_rbf, color='navy', lw=2, label='RBF')\n",
    "plt.plot(X, y_lin, color='c', lw=2, label='Linéaire')\n",
    "plt.plot(X, y_poly, color='cornflowerblue', lw=2, label='Polynomial')\n",
    "plt.xlabel('X')\n",
    "plt.ylabel('y')\n",
    "plt.title('Support Vector Regression')\n",
    "plt.legend()\n",
    "plt.show()"
   ]
  },
  {
   "cell_type": "code",
   "execution_count": 55,
   "metadata": {},
   "outputs": [],
   "source": [
    "from sklearn.datasets import load_diabetes\n",
    "from sklearn.model_selection import train_test_split\n",
    "diabetes = load_diabetes()\n",
    "X_train, X_test, y_train, y_test = train_test_split(diabetes.data,\n",
    "diabetes.target, test_size=0.30, random_state=0)"
   ]
  },
  {
   "cell_type": "code",
   "execution_count": 58,
   "metadata": {},
   "outputs": [
    {
     "name": "stdout",
     "output_type": "stream",
     "text": [
      "Fitting 5 folds for each of 36 candidates, totalling 180 fits\n"
     ]
    },
    {
     "name": "stderr",
     "output_type": "stream",
     "text": [
      "[Parallel(n_jobs=4)]: Using backend LokyBackend with 4 concurrent workers.\n"
     ]
    },
    {
     "name": "stdout",
     "output_type": "stream",
     "text": [
      "{'C': 10, 'gamma': 'scale', 'kernel': 'rbf'}\n",
      "-3088.7746656296613\n"
     ]
    },
    {
     "name": "stderr",
     "output_type": "stream",
     "text": [
      "[Parallel(n_jobs=4)]: Done  68 tasks      | elapsed:    2.4s\n",
      "[Parallel(n_jobs=4)]: Done 180 out of 180 | elapsed:    2.5s finished\n"
     ]
    }
   ],
   "source": [
    "from sklearn.pipeline import Pipeline\n",
    "from sklearn.model_selection import GridSearchCV\n",
    "\n",
    "param_grid = {\n",
    "    'C': [0.1, 1.0, 10, 100],\n",
    "    'gamma':[0.001,0.005,'scale'],\n",
    "    'kernel':['rbf','linear','poly']\n",
    "}\n",
    "\n",
    "search = GridSearchCV(svm.SVR(), param_grid, n_jobs=4, verbose=1, scoring='neg_mean_squared_error')\n",
    "search.fit(X_train, y_train)\n",
    "print(search.best_params_)\n",
    "print(search.score(X_test, y_test))"
   ]
  },
  {
   "cell_type": "code",
   "execution_count": null,
   "metadata": {},
   "outputs": [],
   "source": []
  }
 ],
 "metadata": {
  "kernelspec": {
   "display_name": "Python 3",
   "language": "python",
   "name": "python3"
  },
  "language_info": {
   "codemirror_mode": {
    "name": "ipython",
    "version": 3
   },
   "file_extension": ".py",
   "mimetype": "text/x-python",
   "name": "python",
   "nbconvert_exporter": "python",
   "pygments_lexer": "ipython3",
   "version": "3.8.5"
  }
 },
 "nbformat": 4,
 "nbformat_minor": 4
}
