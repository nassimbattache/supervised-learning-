{
 "cells": [
  {
   "cell_type": "code",
   "execution_count": 1,
   "metadata": {},
   "outputs": [
    {
     "data": {
      "image/png": "[encoded data removed]",
      "text/plain": [
       "<Figure size 432x288 with 10 Axes>"
      ]
     },
     "metadata": {
      "needs_background": "light"
     },
     "output_type": "display_data"
    }
   ],
   "source": [
    "from sklearn.ensemble import BaggingClassifier\n",
    "from sklearn.neighbors import KNeighborsClassifier\n",
    "bagging = BaggingClassifier(KNeighborsClassifier(), max_samples=0.5, max_features=0.5)\n",
    "from sklearn.datasets import load_digits\n",
    "digits = load_digits()\n",
    "\n",
    "# Affichage des 10 premières images\n",
    "import matplotlib.pyplot as plt\n",
    "fig = plt.figure()\n",
    "for i, digit in enumerate(digits.images[:10]):\n",
    "    fig.add_subplot(1,10,i+1)\n",
    "    plt.imshow(digit)\n",
    "plt.show()"
   ]
  },
  {
   "cell_type": "code",
   "execution_count": 2,
   "metadata": {},
   "outputs": [
    {
     "name": "stdout",
     "output_type": "stream",
     "text": [
      "1.0\n"
     ]
    }
   ],
   "source": [
    "import numpy as np\n",
    "from sklearn import tree\n",
    "from sklearn.ensemble import BaggingClassifier\n",
    "\n",
    "X, y = digits.data, digits.target\n",
    "clf = tree.DecisionTreeClassifier()\n",
    "clf.fit(X, y)\n",
    "accuracy = clf.score(X,y)\n",
    "print(accuracy)"
   ]
  },
  {
   "cell_type": "code",
   "execution_count": 3,
   "metadata": {},
   "outputs": [
    {
     "name": "stdout",
     "output_type": "stream",
     "text": [
      "0.6718170580964153\n"
     ]
    }
   ],
   "source": [
    "from sklearn.model_selection import train_test_split\n",
    "# 90% des données pour le test, 10% pour l'apprentissage\n",
    "X_train, X_test, y_train, y_test = train_test_split(X, y, test_size=0.90)\n",
    "\n",
    "clf = tree.DecisionTreeClassifier()\n",
    "clf.fit(X_train, y_train)\n",
    "\n",
    "Z = clf.predict(X_test)\n",
    "accuracy = clf.score(X_test,y_test)\n",
    "print(accuracy)"
   ]
  },
  {
   "cell_type": "code",
   "execution_count": 4,
   "metadata": {},
   "outputs": [
    {
     "name": "stdout",
     "output_type": "stream",
     "text": [
      "0.8444444444444444\n",
      "0.8444444444444444\n",
      "0.8444444444444444\n",
      "0.8444444444444444\n",
      "0.8666666666666667\n",
      "0.8777777777777778\n",
      "0.8666666666666667\n",
      "0.8111111111111111\n",
      "0.8222222222222222\n",
      "0.9111111111111111\n",
      "0.7666666666666667\n",
      "0.9222222222222223\n",
      "0.8222222222222222\n",
      "0.8666666666666667\n",
      "0.8888888888888888\n",
      "0.8777777777777778\n",
      "0.8555555555555555\n",
      "0.8222222222222222\n",
      "0.8666666666666667\n",
      "0.8777777777777778\n",
      "0.8666666666666667\n",
      "0.8444444444444444\n",
      "0.9111111111111111\n",
      "0.9\n",
      "0.8555555555555555\n",
      "0.8666666666666667\n",
      "0.8666666666666667\n",
      "0.8111111111111111\n",
      "0.9\n",
      "0.8444444444444444\n",
      "0.8555555555555555\n",
      "0.8888888888888888\n",
      "0.8777777777777778\n",
      "0.8333333333333334\n",
      "0.8333333333333334\n",
      "0.8111111111111111\n",
      "0.9\n",
      "0.8666666666666667\n",
      "0.8777777777777778\n",
      "0.7666666666666667\n",
      "0.8222222222222222\n",
      "0.8555555555555555\n",
      "0.8333333333333334\n",
      "0.8555555555555555\n",
      "0.8333333333333334\n",
      "0.9\n",
      "0.8666666666666667\n",
      "0.8333333333333334\n",
      "0.8888888888888888\n",
      "0.8555555555555555\n",
      "0.8222222222222222\n",
      "0.8555555555555555\n",
      "0.7777777777777778\n",
      "0.9\n",
      "0.8666666666666667\n",
      "0.7888888888888889\n",
      "0.7888888888888889\n",
      "0.8555555555555555\n",
      "0.8555555555555555\n",
      "0.8555555555555555\n",
      "0.8666666666666667\n",
      "0.8444444444444444\n",
      "0.8444444444444444\n",
      "0.9\n",
      "0.9222222222222223\n",
      "0.8888888888888888\n",
      "0.8555555555555555\n",
      "0.8222222222222222\n",
      "0.8333333333333334\n",
      "0.8666666666666667\n",
      "0.8555555555555555\n",
      "0.7111111111111111\n",
      "0.8777777777777778\n",
      "0.8777777777777778\n",
      "0.8777777777777778\n",
      "0.8555555555555555\n",
      "0.8888888888888888\n",
      "0.8777777777777778\n",
      "0.9333333333333333\n",
      "0.8777777777777778\n",
      "0.8888888888888888\n",
      "0.8\n",
      "0.8444444444444444\n",
      "0.8333333333333334\n",
      "0.9111111111111111\n",
      "0.8888888888888888\n",
      "0.8666666666666667\n",
      "0.8222222222222222\n",
      "0.8111111111111111\n",
      "0.8666666666666667\n",
      "0.8777777777777778\n",
      "0.8111111111111111\n",
      "0.8777777777777778\n",
      "0.8444444444444444\n",
      "0.8444444444444444\n",
      "0.8888888888888888\n",
      "0.8555555555555555\n",
      "0.8888888888888888\n",
      "0.8444444444444444\n",
      "0.8555555555555555\n",
      "0.8558888888888889 0.03619068156444094\n"
     ]
    }
   ],
   "source": [
    "N = 100\n",
    "accuracies = []\n",
    "for i in range(N):\n",
    "    X_train, X_test, y_train, y_test = train_test_split(X, y, test_size=0.05)\n",
    "    clf = tree.DecisionTreeClassifier()\n",
    "    clf.fit(X_train, y_train)\n",
    "    Z = clf.predict(X_test)\n",
    "    accuracies.append(clf.score(X_test,y_test))\n",
    "    print(accuracies[i])\n",
    "\n",
    "print(np.mean(accuracies), np.std(accuracies))"
   ]
  },
  {
   "cell_type": "code",
   "execution_count": 5,
   "metadata": {},
   "outputs": [
    {
     "data": {
      "image/png": "[encoded data removed]",
      "text/plain": [
       "<Figure size 432x288 with 1 Axes>"
      ]
     },
     "metadata": {
      "needs_background": "light"
     },
     "output_type": "display_data"
    }
   ],
   "source": [
    "clf = BaggingClassifier(tree.DecisionTreeClassifier(), max_samples=0.5, max_features=0.5, n_estimators=200)\n",
    "clf.fit(X_train, y_train)\n",
    "Z = clf.predict(X_test)\n",
    "accuracy=clf.score(X_test,y_test)\n",
    "N = 30\n",
    "accuracy = []\n",
    "\n",
    "for i in range(N):\n",
    "    X_train, X_test, y_train, y_test = train_test_split(X, y, test_size=0.5)\n",
    "    clf = BaggingClassifier(tree.DecisionTreeClassifier(), max_samples=0.5, max_features=0.5, n_estimators=(i+1)*10)\n",
    "    clf.fit(X_train, y_train)\n",
    "    Z = clf.predict(X_test)\n",
    "    accuracy.append(clf.score(X_test,y_test))\n",
    "\n",
    "import matplotlib.pyplot as plt\n",
    "plt.plot([10*(i+1) for i in range(N)], accuracy)\n",
    "plt.show()\n"
   ]
  },
  {
   "cell_type": "code",
   "execution_count": 6,
   "metadata": {},
   "outputs": [
    {
     "name": "stdout",
     "output_type": "stream",
     "text": [
      "Meilleur score : 0.9043381535038932\n",
      "max_samples: 0.8\n",
      "max_features: 0.4\n"
     ]
    }
   ],
   "source": [
    "digits = load_digits()\n",
    "X, y = digits.data, digits.target\n",
    "X_train, X_test, y_train, y_test = train_test_split(X, y, test_size=0.5)\n",
    "\n",
    "from sklearn.model_selection import GridSearchCV\n",
    "pgrid = {\"max_samples\": [0.2, 0.4, 0.6, 0.8],\n",
    "        \"max_features\": [0.2, 0.4, 0.6, 0.8]}\n",
    "grid_search = GridSearchCV(BaggingClassifier(tree.DecisionTreeClassifier()), param_grid=pgrid, cv=5)\n",
    "grid_search.fit(X_train, y_train)\n",
    "print(\"Meilleur score : \" + str(grid_search.best_estimator_.score(X_test, y_test)))\n",
    "print(\"max_samples: \" + str(grid_search.best_estimator_.max_samples))\n",
    "print(\"max_features: \" + str(grid_search.best_estimator_.max_features))"
   ]
  },
  {
   "cell_type": "code",
   "execution_count": 7,
   "metadata": {},
   "outputs": [
    {
     "name": "stdout",
     "output_type": "stream",
     "text": [
      "0.92336217552534\n",
      "Arbre de décision : 0.7280593325092707\n",
      "Bagging (200 arbres) : 0.907292954264524\n",
      "Forêt aléatoire (200 arbres) : 0.9332509270704573\n"
     ]
    }
   ],
   "source": [
    "digits = load_digits()\n",
    "X, y = digits.data, digits.target\n",
    "\n",
    "from sklearn.model_selection import train_test_split\n",
    "X_train, X_test, y_train, y_test = train_test_split(X, y, test_size=0.90)\n",
    "from sklearn.ensemble import RandomForestClassifier\n",
    "clf = RandomForestClassifier(n_estimators=200)\n",
    "clf.fit(X_train, y_train)\n",
    "y_pred = clf.predict(X_test)\n",
    "accuracy = clf.score(X_test,y_test)\n",
    "print(accuracy)\n",
    "clf = tree.DecisionTreeClassifier()\n",
    "clf.fit(X_train, y_train)\n",
    "Z = clf.predict(X_test)\n",
    "print(\"Arbre de décision : \" + str(clf.score(X_test,y_test)))\n",
    "\n",
    "clf = BaggingClassifier(tree.DecisionTreeClassifier(), max_samples=0.5, max_features=0.5, n_estimators=200)\n",
    "clf.fit(X_train, y_train)\n",
    "Z = clf.predict(X_test)\n",
    "print(\"Bagging (200 arbres) : \" + str(clf.score(X_test,y_test)))\n",
    "\n",
    "clf = RandomForestClassifier(n_estimators=200)\n",
    "clf.fit(X_train, y_train)\n",
    "Z = clf.predict(X_test)\n",
    "print(\"Forêt aléatoire (200 arbres) : \" + str(clf.score(X_test,y_test)))"
   ]
  },
  {
   "cell_type": "code",
   "execution_count": 8,
   "metadata": {},
   "outputs": [
    {
     "name": "stdout",
     "output_type": "stream",
     "text": [
      "0.9278086763070078 0.006865083036355713\n",
      "0.9622914349276975 0.006340378197997779\n"
     ]
    }
   ],
   "source": [
    "N = 10\n",
    "\n",
    "bagging_accuracies = []\n",
    "for i in range(N):\n",
    "    X_train, X_test, y_train, y_test = train_test_split(X, y, test_size=0.5)\n",
    "    clf = BaggingClassifier(tree.DecisionTreeClassifier(), n_estimators=30)\n",
    "    clf.fit(X_train, y_train)\n",
    "    bagging_accuracies.append(clf.score(X_test,y_test))\n",
    "\n",
    "print(np.mean(bagging_accuracies), np.std(bagging_accuracies))\n",
    "\n",
    "\n",
    "rf_accuracies = []\n",
    "for i in range(N):\n",
    "    X_train, X_test, y_train, y_test = train_test_split(X, y, test_size=0.5)\n",
    "    clf = RandomForestClassifier(n_estimators=30)\n",
    "    clf.fit(X_train, y_train)\n",
    "    rf_accuracies.append(clf.score(X_test,y_test))\n",
    "\n",
    "print(np.mean(rf_accuracies), np.std(rf_accuracies))"
   ]
  },
  {
   "cell_type": "code",
   "execution_count": 9,
   "metadata": {},
   "outputs": [
    {
     "name": "stdout",
     "output_type": "stream",
     "text": [
      "10 0.9343715239154616\n",
      "20 0.9566184649610678\n",
      "30 0.9521690767519466\n",
      "40 0.9566184649610678\n",
      "50 0.9566184649610678\n",
      "60 0.96440489432703\n",
      "70 0.9543937708565072\n",
      "80 0.9621802002224694\n",
      "90 0.9588431590656284\n",
      "100 0.9621802002224694\n",
      "110 0.9621802002224694\n",
      "120 0.9610678531701891\n",
      "130 0.9621802002224694\n",
      "140 0.96440489432703\n",
      "150 0.9566184649610678\n",
      "160 0.9666295884315906\n",
      "170 0.9632925472747497\n",
      "180 0.9632925472747497\n",
      "190 0.9588431590656284\n",
      "200 0.9621802002224694\n",
      "210 0.9599555061179088\n",
      "220 0.96440489432703\n",
      "230 0.9655172413793104\n",
      "240 0.9588431590656284\n",
      "250 0.96440489432703\n",
      "260 0.96440489432703\n",
      "270 0.96440489432703\n",
      "280 0.9666295884315906\n",
      "290 0.96440489432703\n",
      "300 0.9610678531701891\n"
     ]
    },
    {
     "data": {
      "image/png": "[encoded data removed]",
      "text/plain": [
       "<Figure size 432x288 with 1 Axes>"
      ]
     },
     "metadata": {
      "needs_background": "light"
     },
     "output_type": "display_data"
    }
   ],
   "source": [
    "N = 30\n",
    "accuracy = []\n",
    "\n",
    "X_train, X_test, y_train, y_test = train_test_split(X, y, test_size=0.5)\n",
    "\n",
    "for i in range(N):\n",
    "    clf = RandomForestClassifier(n_estimators=(i+1)*10)\n",
    "    clf.fit(X_train, y_train)\n",
    "    accuracy.append(clf.score(X_test,y_test))\n",
    "    print((i+1)*10, accuracy[i])\n",
    "\n",
    "plt.plot([10*(i+1) for i in range(30)], accuracy)\n",
    "plt.show()"
   ]
  },
  {
   "cell_type": "code",
   "execution_count": 10,
   "metadata": {},
   "outputs": [
    {
     "name": "stdout",
     "output_type": "stream",
     "text": [
      "Forêt aléatoire : 0.9621802002224694\n",
      "Extra Trees : 0.9721913236929922\n"
     ]
    }
   ],
   "source": [
    "from sklearn.ensemble import ExtraTreesClassifier\n",
    "\n",
    "import numpy as np\n",
    "digits = load_digits()\n",
    "X, y = digits.data, digits.target\n",
    "\n",
    "X_train, X_test, y_train, y_test = train_test_split(X, y, test_size=0.50, random_state=0)\n",
    "\n",
    "clf = RandomForestClassifier(n_estimators=50)\n",
    "clf.fit(X_train, y_train)\n",
    "accuracy=clf.score(X_test,y_test)\n",
    "print(\"Forêt aléatoire : \" + str(accuracy))\n",
    "\n",
    "clf = ExtraTreesClassifier(n_estimators=50)\n",
    "clf.fit(X_train, y_train)\n",
    "accuracy = clf.score(X_test,y_test)\n",
    "print(\"Extra Trees : \" + str(accuracy))"
   ]
  },
  {
   "cell_type": "code",
   "execution_count": 11,
   "metadata": {},
   "outputs": [
    {
     "name": "stdout",
     "output_type": "stream",
     "text": [
      "0.9227441285537701\n"
     ]
    }
   ],
   "source": [
    "from sklearn.ensemble import AdaBoostClassifier\n",
    "\n",
    "digits = load_digits()\n",
    "X, y = digits.data, digits.target\n",
    "\n",
    "X_train, X_test, y_train, y_test = train_test_split(X, y, test_size=0.90)\n",
    "\n",
    "# AdaBoost basé sur 200 arbres de décision\n",
    "clf = AdaBoostClassifier(base_estimator=tree.DecisionTreeClassifier(max_depth=5), n_estimators=200, learning_rate=2)\n",
    "clf.fit(X_train, y_train)\n",
    "accuracy = clf.score(X_test, y_test)\n",
    "print(accuracy)"
   ]
  },
  {
   "cell_type": "code",
   "execution_count": null,
   "metadata": {},
   "outputs": [],
   "source": []
  }
 ],
 "metadata": {
  "kernelspec": {
   "display_name": "Python 3",
   "language": "python",
   "name": "python3"
  },
  "language_info": {
   "codemirror_mode": {
    "name": "ipython",
    "version": 3
   },
   "file_extension": ".py",
   "mimetype": "text/x-python",
   "name": "python",
   "nbconvert_exporter": "python",
   "pygments_lexer": "ipython3",
   "version": "3.8.5"
  }
 },
 "nbformat": 4,
 "nbformat_minor": 4
}
